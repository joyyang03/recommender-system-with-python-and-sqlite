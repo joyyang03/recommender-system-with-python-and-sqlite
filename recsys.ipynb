{
 "cells": [
  {
   "cell_type": "markdown",
   "metadata": {},
   "source": [
    "# Recommender System with Python and SQLite"
   ]
  },
  {
   "cell_type": "code",
   "execution_count": 207,
   "metadata": {},
   "outputs": [],
   "source": [
    "import sqlite3\n",
    "import numpy as np\n",
    "import pandas as pd\n",
    "import scipy\n",
    "import implicit\n",
    "import random\n",
    "from datetime import datetime\n",
    "\n",
    "pd.set_option('display.max_rows', 15)\n",
    "pd.set_option('display.max_columns', 10)"
   ]
  },
  {
   "cell_type": "markdown",
   "metadata": {},
   "source": [
    "### 1. Data cleaning and exploration"
   ]
  },
  {
   "cell_type": "code",
   "execution_count": 2,
   "metadata": {},
   "outputs": [
    {
     "data": {
      "text/html": [
       "<div>\n",
       "<style scoped>\n",
       "    .dataframe tbody tr th:only-of-type {\n",
       "        vertical-align: middle;\n",
       "    }\n",
       "\n",
       "    .dataframe tbody tr th {\n",
       "        vertical-align: top;\n",
       "    }\n",
       "\n",
       "    .dataframe thead th {\n",
       "        text-align: right;\n",
       "    }\n",
       "</style>\n",
       "<table border=\"1\" class=\"dataframe\">\n",
       "  <thead>\n",
       "    <tr style=\"text-align: right;\">\n",
       "      <th></th>\n",
       "      <th>InvoiceNo</th>\n",
       "      <th>StockCode</th>\n",
       "      <th>Description</th>\n",
       "      <th>Quantity</th>\n",
       "      <th>InvoiceDate</th>\n",
       "      <th>UnitPrice</th>\n",
       "      <th>CustomerID</th>\n",
       "      <th>Country</th>\n",
       "    </tr>\n",
       "  </thead>\n",
       "  <tbody>\n",
       "    <tr>\n",
       "      <th>0</th>\n",
       "      <td>536365</td>\n",
       "      <td>85123A</td>\n",
       "      <td>WHITE HANGING HEART T-LIGHT HOLDER</td>\n",
       "      <td>6</td>\n",
       "      <td>2010-12-01 08:26:00</td>\n",
       "      <td>2.55</td>\n",
       "      <td>17850.0</td>\n",
       "      <td>United Kingdom</td>\n",
       "    </tr>\n",
       "    <tr>\n",
       "      <th>1</th>\n",
       "      <td>536365</td>\n",
       "      <td>71053</td>\n",
       "      <td>WHITE METAL LANTERN</td>\n",
       "      <td>6</td>\n",
       "      <td>2010-12-01 08:26:00</td>\n",
       "      <td>3.39</td>\n",
       "      <td>17850.0</td>\n",
       "      <td>United Kingdom</td>\n",
       "    </tr>\n",
       "    <tr>\n",
       "      <th>2</th>\n",
       "      <td>536365</td>\n",
       "      <td>84406B</td>\n",
       "      <td>CREAM CUPID HEARTS COAT HANGER</td>\n",
       "      <td>8</td>\n",
       "      <td>2010-12-01 08:26:00</td>\n",
       "      <td>2.75</td>\n",
       "      <td>17850.0</td>\n",
       "      <td>United Kingdom</td>\n",
       "    </tr>\n",
       "    <tr>\n",
       "      <th>3</th>\n",
       "      <td>536365</td>\n",
       "      <td>84029G</td>\n",
       "      <td>KNITTED UNION FLAG HOT WATER BOTTLE</td>\n",
       "      <td>6</td>\n",
       "      <td>2010-12-01 08:26:00</td>\n",
       "      <td>3.39</td>\n",
       "      <td>17850.0</td>\n",
       "      <td>United Kingdom</td>\n",
       "    </tr>\n",
       "    <tr>\n",
       "      <th>4</th>\n",
       "      <td>536365</td>\n",
       "      <td>84029E</td>\n",
       "      <td>RED WOOLLY HOTTIE WHITE HEART.</td>\n",
       "      <td>6</td>\n",
       "      <td>2010-12-01 08:26:00</td>\n",
       "      <td>3.39</td>\n",
       "      <td>17850.0</td>\n",
       "      <td>United Kingdom</td>\n",
       "    </tr>\n",
       "  </tbody>\n",
       "</table>\n",
       "</div>"
      ],
      "text/plain": [
       "  InvoiceNo StockCode                          Description  Quantity  \\\n",
       "0    536365    85123A   WHITE HANGING HEART T-LIGHT HOLDER         6   \n",
       "1    536365     71053                  WHITE METAL LANTERN         6   \n",
       "2    536365    84406B       CREAM CUPID HEARTS COAT HANGER         8   \n",
       "3    536365    84029G  KNITTED UNION FLAG HOT WATER BOTTLE         6   \n",
       "4    536365    84029E       RED WOOLLY HOTTIE WHITE HEART.         6   \n",
       "\n",
       "          InvoiceDate  UnitPrice  CustomerID         Country  \n",
       "0 2010-12-01 08:26:00       2.55     17850.0  United Kingdom  \n",
       "1 2010-12-01 08:26:00       3.39     17850.0  United Kingdom  \n",
       "2 2010-12-01 08:26:00       2.75     17850.0  United Kingdom  \n",
       "3 2010-12-01 08:26:00       3.39     17850.0  United Kingdom  \n",
       "4 2010-12-01 08:26:00       3.39     17850.0  United Kingdom  "
      ]
     },
     "execution_count": 2,
     "metadata": {},
     "output_type": "execute_result"
    }
   ],
   "source": [
    "url = 'http://archive.ics.uci.edu/ml/machine-learning-databases/00352/Online%20Retail.xlsx'\n",
    "\n",
    "data = pd.read_excel(url)\n",
    "\n",
    "data.head()"
   ]
  },
  {
   "cell_type": "code",
   "execution_count": null,
   "metadata": {},
   "outputs": [],
   "source": [
    "data.info()\n",
    "\n",
    "# There are null values in CustomerID. We need to know who made the purchase to build for collaborative filtering"
   ]
  },
  {
   "cell_type": "code",
   "execution_count": 3,
   "metadata": {},
   "outputs": [
    {
     "name": "stdout",
     "output_type": "stream",
     "text": [
      "<class 'pandas.core.frame.DataFrame'>\n",
      "Int64Index: 406829 entries, 0 to 541908\n",
      "Data columns (total 8 columns):\n",
      "InvoiceNo      406829 non-null object\n",
      "StockCode      406829 non-null object\n",
      "Description    406829 non-null object\n",
      "Quantity       406829 non-null int64\n",
      "InvoiceDate    406829 non-null datetime64[ns]\n",
      "UnitPrice      406829 non-null float64\n",
      "CustomerID     406829 non-null float64\n",
      "Country        406829 non-null object\n",
      "dtypes: datetime64[ns](1), float64(2), int64(1), object(4)\n",
      "memory usage: 27.9+ MB\n"
     ]
    }
   ],
   "source": [
    "data = data[pd.notna(data['CustomerID'])]\n",
    "data.info()"
   ]
  },
  {
   "cell_type": "code",
   "execution_count": 4,
   "metadata": {},
   "outputs": [
    {
     "data": {
      "text/html": [
       "<div>\n",
       "<style scoped>\n",
       "    .dataframe tbody tr th:only-of-type {\n",
       "        vertical-align: middle;\n",
       "    }\n",
       "\n",
       "    .dataframe tbody tr th {\n",
       "        vertical-align: top;\n",
       "    }\n",
       "\n",
       "    .dataframe thead th {\n",
       "        text-align: right;\n",
       "    }\n",
       "</style>\n",
       "<table border=\"1\" class=\"dataframe\">\n",
       "  <thead>\n",
       "    <tr style=\"text-align: right;\">\n",
       "      <th></th>\n",
       "      <th>StockCode</th>\n",
       "      <th>Description</th>\n",
       "      <th>Quantity</th>\n",
       "    </tr>\n",
       "  </thead>\n",
       "  <tbody>\n",
       "    <tr>\n",
       "      <th>2712</th>\n",
       "      <td>84077</td>\n",
       "      <td>WORLD WAR 2 GLIDERS ASSTD DESIGNS</td>\n",
       "      <td>53215</td>\n",
       "    </tr>\n",
       "    <tr>\n",
       "      <th>3586</th>\n",
       "      <td>85099B</td>\n",
       "      <td>JUMBO BAG RED RETROSPOT</td>\n",
       "      <td>45066</td>\n",
       "    </tr>\n",
       "    <tr>\n",
       "      <th>2818</th>\n",
       "      <td>84879</td>\n",
       "      <td>ASSORTED COLOUR BIRD ORNAMENT</td>\n",
       "      <td>35314</td>\n",
       "    </tr>\n",
       "    <tr>\n",
       "      <th>3593</th>\n",
       "      <td>85123A</td>\n",
       "      <td>WHITE HANGING HEART T-LIGHT HOLDER</td>\n",
       "      <td>34147</td>\n",
       "    </tr>\n",
       "    <tr>\n",
       "      <th>361</th>\n",
       "      <td>21212</td>\n",
       "      <td>PACK OF 72 RETROSPOT CAKE CASES</td>\n",
       "      <td>33409</td>\n",
       "    </tr>\n",
       "  </tbody>\n",
       "</table>\n",
       "</div>"
      ],
      "text/plain": [
       "     StockCode                         Description  Quantity\n",
       "2712     84077   WORLD WAR 2 GLIDERS ASSTD DESIGNS     53215\n",
       "3586    85099B             JUMBO BAG RED RETROSPOT     45066\n",
       "2818     84879       ASSORTED COLOUR BIRD ORNAMENT     35314\n",
       "3593    85123A  WHITE HANGING HEART T-LIGHT HOLDER     34147\n",
       "361      21212     PACK OF 72 RETROSPOT CAKE CASES     33409"
      ]
     },
     "execution_count": 4,
     "metadata": {},
     "output_type": "execute_result"
    }
   ],
   "source": [
    "items = data.groupby(['StockCode','Description'], as_index=False).agg({'Quantity': np.sum})\n",
    "items = items.sort_values(by = 'Quantity', ascending = False)\n",
    "items.head()"
   ]
  },
  {
   "cell_type": "code",
   "execution_count": 5,
   "metadata": {},
   "outputs": [
    {
     "data": {
      "text/html": [
       "<div>\n",
       "<style scoped>\n",
       "    .dataframe tbody tr th:only-of-type {\n",
       "        vertical-align: middle;\n",
       "    }\n",
       "\n",
       "    .dataframe tbody tr th {\n",
       "        vertical-align: top;\n",
       "    }\n",
       "\n",
       "    .dataframe thead th {\n",
       "        text-align: right;\n",
       "    }\n",
       "</style>\n",
       "<table border=\"1\" class=\"dataframe\">\n",
       "  <thead>\n",
       "    <tr style=\"text-align: right;\">\n",
       "      <th></th>\n",
       "      <th>StockCode</th>\n",
       "      <th>Description</th>\n",
       "      <th>Quantity</th>\n",
       "    </tr>\n",
       "  </thead>\n",
       "  <tbody>\n",
       "    <tr>\n",
       "      <th>314</th>\n",
       "      <td>21144</td>\n",
       "      <td>PINK POODLE HANGING DECORATION</td>\n",
       "      <td>-12</td>\n",
       "    </tr>\n",
       "    <tr>\n",
       "      <th>3910</th>\n",
       "      <td>CRUK</td>\n",
       "      <td>CRUK Commission</td>\n",
       "      <td>-16</td>\n",
       "    </tr>\n",
       "    <tr>\n",
       "      <th>629</th>\n",
       "      <td>21645</td>\n",
       "      <td>ASSORTED TUTTI FRUTTI ROUND BOX</td>\n",
       "      <td>-24</td>\n",
       "    </tr>\n",
       "    <tr>\n",
       "      <th>3911</th>\n",
       "      <td>D</td>\n",
       "      <td>Discount</td>\n",
       "      <td>-1194</td>\n",
       "    </tr>\n",
       "    <tr>\n",
       "      <th>2723</th>\n",
       "      <td>84347</td>\n",
       "      <td>ROTATING SILVER ANGELS T-LIGHT HLDR</td>\n",
       "      <td>-1460</td>\n",
       "    </tr>\n",
       "  </tbody>\n",
       "</table>\n",
       "</div>"
      ],
      "text/plain": [
       "     StockCode                          Description  Quantity\n",
       "314      21144      PINK POODLE HANGING DECORATION        -12\n",
       "3910      CRUK                      CRUK Commission       -16\n",
       "629      21645      ASSORTED TUTTI FRUTTI ROUND BOX       -24\n",
       "3911         D                             Discount     -1194\n",
       "2723     84347  ROTATING SILVER ANGELS T-LIGHT HLDR     -1460"
      ]
     },
     "execution_count": 5,
     "metadata": {},
     "output_type": "execute_result"
    }
   ],
   "source": [
    "items.tail()\n",
    "\n",
    "# More abnormalities in the data. We need to remove the items with negative quantity"
   ]
  },
  {
   "cell_type": "code",
   "execution_count": 6,
   "metadata": {},
   "outputs": [
    {
     "data": {
      "text/html": [
       "<div>\n",
       "<style scoped>\n",
       "    .dataframe tbody tr th:only-of-type {\n",
       "        vertical-align: middle;\n",
       "    }\n",
       "\n",
       "    .dataframe tbody tr th {\n",
       "        vertical-align: top;\n",
       "    }\n",
       "\n",
       "    .dataframe thead th {\n",
       "        text-align: right;\n",
       "    }\n",
       "</style>\n",
       "<table border=\"1\" class=\"dataframe\">\n",
       "  <thead>\n",
       "    <tr style=\"text-align: right;\">\n",
       "      <th></th>\n",
       "      <th>InvoiceNo</th>\n",
       "      <th>StockCode</th>\n",
       "      <th>Description</th>\n",
       "      <th>Quantity</th>\n",
       "      <th>InvoiceDate</th>\n",
       "      <th>UnitPrice</th>\n",
       "      <th>CustomerID</th>\n",
       "      <th>Country</th>\n",
       "    </tr>\n",
       "  </thead>\n",
       "  <tbody>\n",
       "    <tr>\n",
       "      <th>0</th>\n",
       "      <td>536365</td>\n",
       "      <td>85123A</td>\n",
       "      <td>WHITE HANGING HEART T-LIGHT HOLDER</td>\n",
       "      <td>6</td>\n",
       "      <td>2010-12-01 08:26:00</td>\n",
       "      <td>2.55</td>\n",
       "      <td>17850</td>\n",
       "      <td>United Kingdom</td>\n",
       "    </tr>\n",
       "    <tr>\n",
       "      <th>1</th>\n",
       "      <td>536365</td>\n",
       "      <td>71053</td>\n",
       "      <td>WHITE METAL LANTERN</td>\n",
       "      <td>6</td>\n",
       "      <td>2010-12-01 08:26:00</td>\n",
       "      <td>3.39</td>\n",
       "      <td>17850</td>\n",
       "      <td>United Kingdom</td>\n",
       "    </tr>\n",
       "    <tr>\n",
       "      <th>2</th>\n",
       "      <td>536365</td>\n",
       "      <td>84406B</td>\n",
       "      <td>CREAM CUPID HEARTS COAT HANGER</td>\n",
       "      <td>8</td>\n",
       "      <td>2010-12-01 08:26:00</td>\n",
       "      <td>2.75</td>\n",
       "      <td>17850</td>\n",
       "      <td>United Kingdom</td>\n",
       "    </tr>\n",
       "    <tr>\n",
       "      <th>3</th>\n",
       "      <td>536365</td>\n",
       "      <td>84029G</td>\n",
       "      <td>KNITTED UNION FLAG HOT WATER BOTTLE</td>\n",
       "      <td>6</td>\n",
       "      <td>2010-12-01 08:26:00</td>\n",
       "      <td>3.39</td>\n",
       "      <td>17850</td>\n",
       "      <td>United Kingdom</td>\n",
       "    </tr>\n",
       "    <tr>\n",
       "      <th>4</th>\n",
       "      <td>536365</td>\n",
       "      <td>84029E</td>\n",
       "      <td>RED WOOLLY HOTTIE WHITE HEART.</td>\n",
       "      <td>6</td>\n",
       "      <td>2010-12-01 08:26:00</td>\n",
       "      <td>3.39</td>\n",
       "      <td>17850</td>\n",
       "      <td>United Kingdom</td>\n",
       "    </tr>\n",
       "  </tbody>\n",
       "</table>\n",
       "</div>"
      ],
      "text/plain": [
       "  InvoiceNo StockCode                          Description  Quantity  \\\n",
       "0    536365    85123A   WHITE HANGING HEART T-LIGHT HOLDER         6   \n",
       "1    536365     71053                  WHITE METAL LANTERN         6   \n",
       "2    536365    84406B       CREAM CUPID HEARTS COAT HANGER         8   \n",
       "3    536365    84029G  KNITTED UNION FLAG HOT WATER BOTTLE         6   \n",
       "4    536365    84029E       RED WOOLLY HOTTIE WHITE HEART.         6   \n",
       "\n",
       "          InvoiceDate  UnitPrice  CustomerID         Country  \n",
       "0 2010-12-01 08:26:00       2.55       17850  United Kingdom  \n",
       "1 2010-12-01 08:26:00       3.39       17850  United Kingdom  \n",
       "2 2010-12-01 08:26:00       2.75       17850  United Kingdom  \n",
       "3 2010-12-01 08:26:00       3.39       17850  United Kingdom  \n",
       "4 2010-12-01 08:26:00       3.39       17850  United Kingdom  "
      ]
     },
     "execution_count": 6,
     "metadata": {},
     "output_type": "execute_result"
    }
   ],
   "source": [
    "data = data[data['Quantity'] > 0]\n",
    "data['CustomerID'] = pd.to_numeric(data['CustomerID'], downcast = 'integer')\n",
    "\n",
    "# Remove administrative charges such as postage or carriage\n",
    "\n",
    "data['StockCodeLen'] = data['StockCode'].map(str).apply(len)\n",
    "data = data[data['StockCodeLen'] > 4].drop('StockCodeLen', axis = 1)\n",
    "data.head()"
   ]
  },
  {
   "cell_type": "markdown",
   "metadata": {},
   "source": [
    "### 2. Calculating sparsity\n",
    "\n",
    "In order for collaborative filtering to work, we need to make sure the sparsity level does not go over 99.5%"
   ]
  },
  {
   "cell_type": "code",
   "execution_count": 7,
   "metadata": {},
   "outputs": [],
   "source": [
    "# The score will be based on how many times a customer has purchased an item converted to 1-5 scale\n",
    "\n",
    "recData = data.groupby(['CustomerID','StockCode','Description'], as_index = False).agg({'InvoiceNo': 'nunique'})\n",
    "\n",
    "recData.rename(columns = {'InvoiceNo':'score'}, inplace = True)"
   ]
  },
  {
   "cell_type": "code",
   "execution_count": 8,
   "metadata": {},
   "outputs": [
    {
     "name": "stdout",
     "output_type": "stream",
     "text": [
      "0.9841981993871773\n"
     ]
    }
   ],
   "source": [
    "pivotData = pd.pivot_table(recData, values = 'score', index = 'CustomerID', \n",
    "                            columns = 'Description', aggfunc = np.sum)\n",
    "masked = np.ma.masked_invalid(pivotData)\n",
    "mc = masked.compressed()\n",
    "print(1 - mc.shape[0]/np.prod(pivotData.shape))\n",
    "\n",
    "# The maximum recommended sparsity is 99.5%"
   ]
  },
  {
   "cell_type": "markdown",
   "metadata": {},
   "source": [
    "### 3. Collaborative filtering"
   ]
  },
  {
   "cell_type": "code",
   "execution_count": 9,
   "metadata": {},
   "outputs": [
    {
     "name": "stderr",
     "output_type": "stream",
     "text": [
      "100%|██████████| 50.0/50 [00:04<00:00, 11.06it/s]\n"
     ]
    }
   ],
   "source": [
    "# Create a sparse matrix\n",
    "\n",
    "recData['CustomerID'] = recData['CustomerID'].astype(\"category\")\n",
    "recData['StockCode'] = recData['StockCode'].astype(\"category\")\n",
    "recData['user'] = recData['CustomerID'].cat.codes\n",
    "recData['item'] = recData['StockCode'].cat.codes\n",
    "\n",
    "# The implicit library expects data as a item-user matrix so we\n",
    "# create two matricies, one for fitting the model (item-user) \n",
    "# and one for recommendations (user-item)\n",
    "sparseItemUser = scipy.sparse.csr_matrix((rec_data['score'].astype(float), (rec_data['item'], rec_data['user'])))\n",
    "sparseUserItem = scipy.sparse.csr_matrix((rec_data['score'].astype(float), (rec_data['user'], rec_data['item'])))\n",
    "\n",
    "# Initialize the als model and fit it using the sparse item-user matrix\n",
    "model = implicit.als.AlternatingLeastSquares(factors=20, regularization=0.1, iterations=50)\n",
    "\n",
    "# Calculate the confidence by multiplying it by alpha value, based on the methodologies of \n",
    "# http://yifanhu.net/PUB/cf.pdf\n",
    "alphaVal = 15\n",
    "dataConf = (sparseItemUser * alphaVal).astype('double')\n",
    "\n",
    "#Fit the model\n",
    "model.fit(data_conf)\n"
   ]
  },
  {
   "cell_type": "code",
   "execution_count": 80,
   "metadata": {},
   "outputs": [],
   "source": [
    "# Helper functions\n",
    "\n",
    "def getUserItems(user):\n",
    "    \"\"\"\n",
    "    returns a list of item descriptions a user bought\n",
    "    \n",
    "    user: user categorical code \n",
    "    \"\"\"\n",
    "    return recData[recData['user'] == user]['Description'].astype('str').unique()\n",
    "\n",
    "def getItemDescription(items):\n",
    "    \"\"\"\n",
    "    returns a list of descriptions given a list of items\n",
    "    \n",
    "    items: list of item categorical code\n",
    "    \"\"\"\n",
    "    descriptions = []\n",
    "    for item in items:\n",
    "        descriptions.extend(recData[recData['item'] == item ]['Description'].astype('str').unique())\n",
    "    return descriptions\n",
    "\n",
    "def getUserRecommendations(user):\n",
    "    \"\"\"\n",
    "    returns a dictionary of item categorical code and score\n",
    "    \n",
    "    user: user categorical code\n",
    "    \"\"\"\n",
    "    itemRecs = {}\n",
    "    recommended = model.recommend(user, sparseUserItem)\n",
    "    for item in recommended:\n",
    "        itemRecs[item[0]] = item[1]\n",
    "    return itemRecs\n",
    "\n",
    "def getSimilarItems(item):\n",
    "    \"\"\"\n",
    "    returns a dictionary of item categorical code and score\n",
    "    \n",
    "    item: item categorical code\n",
    "    \"\"\"\n",
    "    similar = model.similar_items(item, 11)\n",
    "    similar.pop(0)\n",
    "    similarItems = {}\n",
    "    for item in similar:\n",
    "        similarItems[item[0]] = item[1]\n",
    "    return similarItems"
   ]
  },
  {
   "cell_type": "code",
   "execution_count": 83,
   "metadata": {},
   "outputs": [
    {
     "name": "stdout",
     "output_type": "stream",
     "text": [
      "User purchased: ['NOVELTY BISCUITS CAKE STAND 3 TIER' 'MINI CAKE STAND WITH HANGING CAKES'\n",
      " 'CERAMIC CAKE STAND + HANGING CAKES' 'CERAMIC CAKE BOWL + HANGING CAKES']\n",
      "Recomendations: ['MINI CAKE STAND  HANGING STRAWBERY', 'LARGE CAKE STAND  HANGING STRAWBERY', 'STRAWBERRY FAIRY CAKE TEAPOT', 'SWEETHEART CERAMIC TRINKET BOX', 'CERAMIC BOWL WITH STRAWBERRY DESIGN', 'CERAMIC CAKE DESIGN SPOTTED MUG', 'STRAWBERRY CERAMIC TRINKET POT', 'STRAWBERRY CERAMIC TRINKET BOX', 'CERAMIC STRAWBERRY CAKE MONEY BANK', 'CERAMIC STRAWBERRY DESIGN MUG', 'CERAMIC CAKE DESIGN SPOTTED PLATE']\n",
      "User purchased: ['STRAWBERRY CERAMIC TRINKET BOX' 'JUMBO STORAGE BAG SUKI'\n",
      " 'LUNCH BAG SPACEBOY DESIGN ' 'LUNCH BAG SUKI  DESIGN '\n",
      " 'JUMBO BAG SPACEBOY DESIGN' 'PLASTERS IN TIN SPACEBOY'\n",
      " 'SPACEBOY LUNCH BOX ' 'CERAMIC STRAWBERRY CAKE MONEY BANK'\n",
      " 'FAIRY CAKES NOTEBOOK A6 SIZE' 'JUMBO BAG RED RETROSPOT']\n",
      "Recomendations: ['RED RETROSPOT CHARLOTTE BAG', 'LUNCH BAG RED RETROSPOT', 'LUNCH BAG RED SPOTTY', 'LUNCH BAG CARS BLUE', 'LUNCH BAG WOODLAND', 'WOODLAND CHARLOTTE BAG', 'LUNCH BAG  BLACK SKULL.', 'LUNCH BAG PINK POLKADOT', 'LUNCH BAG DOLLY GIRL DESIGN', 'CHARLOTTE BAG PINK POLKADOT', 'LUNCH BAG APPLE DESIGN']\n"
     ]
    }
   ],
   "source": [
    "# Check the recommender system\n",
    "print(\"User purchased:\", getUserItems(6))\n",
    "\n",
    "print(\"Recomendations:\", getItemDescription(getUserRecommendations(6).keys()))\n",
    "\n",
    "print(\"User purchased:\", getUserItems(3000))\n",
    "\n",
    "print(\"Recomendations:\", getItemDescription(getUserRecommendations(3000).keys()))\n",
    "\n",
    "# User 6 bought mainly cake related items and we were able to recommend more items related to baking\n",
    "# Same with user 300, the user bought many lunch bags and the recommender outputted more suggestions for lunch bags"
   ]
  },
  {
   "cell_type": "code",
   "execution_count": 84,
   "metadata": {},
   "outputs": [
    {
     "name": "stdout",
     "output_type": "stream",
     "text": [
      "Original item: ['ASSTD DESIGN RACING CAR PEN']\n",
      "Recomendations: ['CAMOUFLAGE LED TORCH', '3D DOG PICTURE PLAYING CARDS', '3D SHEET OF DOG STICKERS', 'NINJA RABBIT BLACK', 'BALLOON WATER BOMB PACK OF 35', 'NINJA RABBIT PINK', 'COLUMBIAN CANDLE RECTANGLE', 'CAMOUFLAGE EAR MUFF HEADPHONES', 'SILVER DIAMANTE PEN IN GIFT BOX', 'EIGHT PIECE SNAKE  SET']\n",
      "Original item: ['SET OF 6 GIRLS CELEBRATION CANDLES']\n",
      "Recomendations: ['SET 6 FOOTBALL CELEBRATION CANDLES', 'SET 20 NAPKINS FAIRY CAKES DESIGN ', 'DENIM PATCH PURSE PINK BUTTERFLY', 'PINK PARTY BAGS', 'SET/10 PINK POLKADOT PARTY CANDLES', 'PARTY INVITES JAZZ HEARTS', 'ALPHABET HEARTS STICKER SHEET', 'SET/10 IVORY POLKADOT PARTY CANDLES', 'HEARTS  STICKERS', 'SET/10 BLUE POLKADOT PARTY CANDLES']\n"
     ]
    }
   ],
   "source": [
    "# Check similar item recommendation\n",
    "print(\"Original item:\", getItemDescription([6]))\n",
    "\n",
    "print(\"Recomendations:\", getItemDescription(getSimilarItems(6).keys()))\n",
    "\n",
    "print(\"Original item:\", getItemDescription([300]))\n",
    "\n",
    "print(\"Recomendations:\", getItemDescription(getSimilarItems(300).keys()))\n",
    "\n",
    "# The essense of the items are captured. The first one is a toy pen and the recommender outputted toys and other pens \n",
    "# The second item is a celebratory candle and all the recommendations are candles and party supplies"
   ]
  },
  {
   "cell_type": "markdown",
   "metadata": {},
   "source": [
    "### 4. Import recommendation data to SQLight"
   ]
  },
  {
   "cell_type": "code",
   "execution_count": 117,
   "metadata": {},
   "outputs": [],
   "source": [
    "uniqueUser = recData[['user', 'CustomerID']].drop_duplicates()\n",
    "uniqueItems = recData[['item', 'StockCode']].drop_duplicates()"
   ]
  },
  {
   "cell_type": "code",
   "execution_count": 227,
   "metadata": {},
   "outputs": [
    {
     "data": {
      "text/plain": [
       "<sqlite3.Cursor at 0x1a1e123a40>"
      ]
     },
     "execution_count": 227,
     "metadata": {},
     "output_type": "execute_result"
    }
   ],
   "source": [
    "# I am assuming original data is already in SQLite\n",
    "con = sqlite3.connect(\"Database/recommender.sqlite\")\n",
    "cur = con.cursor()\n",
    "cur.execute(\"DROP TABLE IF EXISTS user_recommendation;\")\n",
    "cur.execute(\"DROP TABLE IF EXISTS similar_items;\")\n",
    "cur.execute(\"CREATE TABLE user_recommendation (CustomerID INTEGER, StockCode TEXT, Score TEXT);\")\n",
    "cur.execute(\"CREATE TABLE similar_items (StockCode TEXT, SimilarStockCode TEXT, Score TEXT);\")\n",
    "cur.execute(\"CREATE TABLE IF NOT EXISTS import_status (created_at VARCHAR, name VARCHAR, status TEXT);\")"
   ]
  },
  {
   "cell_type": "code",
   "execution_count": 228,
   "metadata": {},
   "outputs": [],
   "source": [
    "# Insert customer recommendation\n",
    "\n",
    "for row in uniqueUser.iterrows():\n",
    "    rec = getUserRecommendations(row[1][0])\n",
    "    for item, score in rec.items():\n",
    "        cur.execute(\"INSERT INTO user_recommendation VALUES(?,?,?)\", \n",
    "                    (int(row[1][1]), \n",
    "                     uniqueItems['StockCode'].loc[uniqueItems['item'] == item].values.astype(str)[0], float(score)))\n",
    "        \n"
   ]
  },
  {
   "cell_type": "code",
   "execution_count": 229,
   "metadata": {},
   "outputs": [],
   "source": [
    "# Insert item recommendation\n",
    "\n",
    "for row in uniqueItems.iterrows():\n",
    "    rec = getSimilarItems(row[1][0])\n",
    "    for item, score in rec.items():\n",
    "        cur.execute(\"INSERT INTO similar_items VALUES(?,?,?)\", \n",
    "                    (str(row[1][0]), \n",
    "                     uniqueItems['StockCode'].loc[uniqueItems['item'] == item].values.astype(str)[0], float(score)))\n",
    "\n",
    "con.commit()"
   ]
  },
  {
   "cell_type": "code",
   "execution_count": 245,
   "metadata": {},
   "outputs": [],
   "source": [
    "# Verify whether the insertions went through by comparing number of rows\n",
    "\n",
    "cur.execute(\"SELECT COUNT(DISTINCT CustomerID) FROM user_recommendation\")\n",
    "if cur.fetchone()[0] == len(uniqueUser):\n",
    "    cur.execute(\"INSERT INTO import_status VALUES(?,?,?)\", (str(datetime.now()), \"user_recommendation\",\"success\"))\n",
    "else:\n",
    "    cur.execute(\"INSERT INTO import_status VALUES(?,?,?)\", (str(datetime.now()), \"user_recommendation\",\"fail\"))\n",
    "                \n",
    "cur.execute(\"SELECT COUNT(DISTINCT StockCode) FROM similar_items\")\n",
    "if cur.fetchone()[0] == len(uniqueItems):\n",
    "    cur.execute(\"INSERT INTO import_status VALUES(?,?,?)\", (str(datetime.now()), \"similar_items\",\"success\"))\n",
    "else:\n",
    "    cur.execute(\"INSERT INTO import_status VALUES(?,?,?)\", (str(datetime.now()), \"similar_items\",\"fail\"))\n",
    "\n",
    "con.commit()"
   ]
  },
  {
   "cell_type": "code",
   "execution_count": 246,
   "metadata": {},
   "outputs": [],
   "source": [
    "con.close()"
   ]
  },
  {
   "cell_type": "markdown",
   "metadata": {},
   "source": [
    "### Conclusion\n",
    "\n",
    "By storing the recommendations for users and items in database beforehand, we can access recommendations faster upon load. Also, we provided an alternative to using user specific recommendations by providing similar items, which could be used for new users where we have little information on them."
   ]
  }
 ],
 "metadata": {
  "kernelspec": {
   "display_name": "Python 3",
   "language": "python",
   "name": "python3"
  },
  "language_info": {
   "codemirror_mode": {
    "name": "ipython",
    "version": 3
   },
   "file_extension": ".py",
   "mimetype": "text/x-python",
   "name": "python",
   "nbconvert_exporter": "python",
   "pygments_lexer": "ipython3",
   "version": "3.6.4"
  }
 },
 "nbformat": 4,
 "nbformat_minor": 2
}
